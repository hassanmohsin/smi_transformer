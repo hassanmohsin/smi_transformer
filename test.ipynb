{
 "cells": [
  {
   "cell_type": "code",
   "execution_count": 1,
   "metadata": {},
   "outputs": [],
   "source": [
    "# %load transformer/evaluate.py\n",
    "import torch\n",
    "from torch import nn\n",
    "from torch.utils.data import TensorDataset, DataLoader\n",
    "import pandas as pd\n",
    "from tqdm import *\n",
    "import numpy as np\n",
    "from transformer.models import TrfmSeq2seqProp2\n",
    "from transformer.dataset import Seq2seqDatasetProp\n",
    "from transformer.build_vocab import WordVocab\n",
    "import json\n",
    "from sklearn.metrics import mean_absolute_error, mean_squared_error\n",
    "import sys\n",
    "import joblib\n",
    "\n",
    "torch.manual_seed(0)\n",
    "\n",
    "params = json.load(open(\"exp_params/params_4.json\"))\n",
    "model_file = \"exps/exp4/ST_48_1767-0.003617.pkl\"\n",
    "assert torch.cuda.is_available()\n",
    "device = torch.device(\"cuda\" if torch.cuda.is_available() else \"cpu\") \n",
    "\n",
    "vocab = WordVocab.load_vocab(params['vocab'])\n",
    "model = TrfmSeq2seqProp2(len(vocab), params['hidden'], len(vocab), params['n_layer'])\n",
    "model.load_state_dict(torch.load(model_file))\n",
    "model = nn.DataParallel(model)\n",
    "model.to(device)\n",
    "model.eval()\n",
    "\n",
    "# Load the scaler\n",
    "scaler = joblib.load(\"data/scaler.pkl\")\n"
   ]
  },
  {
   "cell_type": "code",
   "execution_count": 2,
   "metadata": {},
   "outputs": [],
   "source": [
    "batch_size = params['batch_size']\n",
    "dataset = Seq2seqDatasetProp(params, vocab)\n",
    "\n",
    "_, test = torch.utils.data.random_split(\n",
    "                dataset, [len(dataset) - params['test_size'], params['test_size']])\n",
    "\n",
    "test_loader = DataLoader(test, batch_size=batch_size, shuffle=False, num_workers=56)\n"
   ]
  },
  {
   "cell_type": "code",
   "execution_count": 28,
   "metadata": {},
   "outputs": [
    {
     "name": "stderr",
     "output_type": "stream",
     "text": [
      "\r",
      "  0%|          | 0/10 [00:00<?, ?it/s]"
     ]
    },
    {
     "name": "stdout",
     "output_type": "stream",
     "text": [
      "Evaluating data/chembl_24_chemreps_processed_scaled.csv...\n"
     ]
    },
    {
     "name": "stderr",
     "output_type": "stream",
     "text": [
      "  0%|          | 0/10 [00:13<?, ?it/s]\n"
     ]
    }
   ],
   "source": [
    "ytrue = np.empty((len(test), 3), np.float32)\n",
    "ypred = np.empty_like(ytrue, np.float32)\n",
    "\n",
    "print(f\"Evaluating {params['data']}...\")\n",
    "with torch.no_grad():\n",
    "    for i, (x, y) in enumerate(tqdm(test_loader)):\n",
    "        _, pred = model(x.to(device))\n",
    "        ytrue[i*batch_size:i*batch_size+batch_size] = y.numpy()\n",
    "        ypred[i*batch_size:i*batch_size+batch_size] = pred.cpu().numpy()\n",
    "        break"
   ]
  },
  {
   "cell_type": "code",
   "execution_count": 27,
   "metadata": {},
   "outputs": [
    {
     "data": {
      "text/plain": [
       "(device(type='cpu'), device(type='cuda', index=0))"
      ]
     },
     "execution_count": 27,
     "metadata": {},
     "output_type": "execute_result"
    }
   ],
   "source": [
    "y.device, pred.device"
   ]
  },
  {
   "cell_type": "code",
   "execution_count": 29,
   "metadata": {},
   "outputs": [
    {
     "data": {
      "text/plain": [
       "array([[ 3.6969191e-01,  7.0472121e-02,  5.9174597e-01],\n",
       "       [ 3.6320645e-01,  5.7177496e-01,  2.5192970e-01],\n",
       "       [ 3.6612374e-01,  7.6592195e-01,  1.7208233e-01],\n",
       "       ...,\n",
       "       [ 4.5675323e-41, -6.5101274e+35,  4.5675323e-41],\n",
       "       [-3.5327679e+35,  4.5675323e-41, -5.4986278e+35],\n",
       "       [ 4.5675323e-41, -6.5101559e+35,  4.5675323e-41]], dtype=float32)"
      ]
     },
     "execution_count": 29,
     "metadata": {},
     "output_type": "execute_result"
    }
   ],
   "source": [
    "ypred"
   ]
  },
  {
   "cell_type": "code",
   "execution_count": 5,
   "metadata": {},
   "outputs": [],
   "source": [
    "# #\"logP\", \"qed\", \"sas\"\n",
    "# # Inverse transform\n",
    "# ytrue = scaler.inverse_transform(ytrue)\n",
    "# ypred = scaler.inverse_transform(ypred)\n",
    "# mae = [mean_absolute_error(ytrue[:, i], ypred[:, i]) for i in range(3)]\n",
    "# rmse = [np.sqrt(mean_squared_error(ytrue[:, i], ypred[:, i])) for i in range(3)]"
   ]
  },
  {
   "cell_type": "code",
   "execution_count": 6,
   "metadata": {},
   "outputs": [
    {
     "data": {
      "text/plain": [
       "(array([[5.6402025 , 0.06705579, 6.270664  ],\n",
       "        [5.6402025 , 0.06705579, 6.270664  ],\n",
       "        [5.6402025 , 0.06705579, 6.270664  ],\n",
       "        [5.6402025 , 0.06705579, 6.270664  ],\n",
       "        [5.6402025 , 0.06705579, 6.270664  ],\n",
       "        [5.6402025 , 0.06705579, 6.270664  ],\n",
       "        [5.6402025 , 0.06705579, 6.270664  ],\n",
       "        [5.6402025 , 0.06705579, 6.270664  ],\n",
       "        [5.6402025 , 0.06705579, 6.270664  ],\n",
       "        [5.6402025 , 0.06705579, 6.270664  ]], dtype=float32),\n",
       " array([[4.842292  , 0.06820208, 6.3257136 ],\n",
       "        [4.842292  , 0.06820208, 6.3257136 ],\n",
       "        [4.842292  , 0.06820208, 6.3257136 ],\n",
       "        [4.842292  , 0.06820208, 6.3257136 ],\n",
       "        [4.842292  , 0.06820208, 6.3257136 ],\n",
       "        [4.842292  , 0.06820208, 6.3257136 ],\n",
       "        [4.842292  , 0.06820208, 6.3257136 ],\n",
       "        [4.842292  , 0.06820208, 6.3257136 ],\n",
       "        [4.842292  , 0.06820208, 6.3257136 ],\n",
       "        [4.842292  , 0.06820208, 6.3257136 ]], dtype=float32))"
      ]
     },
     "execution_count": 6,
     "metadata": {},
     "output_type": "execute_result"
    }
   ],
   "source": [
    "ytrue[:10], ypred[:10]"
   ]
  },
  {
   "cell_type": "code",
   "execution_count": 14,
   "metadata": {},
   "outputs": [
    {
     "data": {
      "text/plain": [
       "array([[5.64020241, 0.06705579, 6.2706641 ],\n",
       "       [2.23259779, 0.62665498, 2.25496657],\n",
       "       [3.80459593, 0.75104895, 2.0205635 ],\n",
       "       ...,\n",
       "       [3.1105973 , 0.24076508, 2.98288631],\n",
       "       [5.05849649, 0.35952767, 4.03036109],\n",
       "       [0.53500028, 0.50814179, 4.21724641]])"
      ]
     },
     "execution_count": 14,
     "metadata": {},
     "output_type": "execute_result"
    }
   ],
   "source": [
    "scaler.inverse_transform(y)"
   ]
  },
  {
   "cell_type": "code",
   "execution_count": 15,
   "metadata": {},
   "outputs": [
    {
     "data": {
      "text/plain": [
       "tensor([[0.3726, 0.0693, 0.5856],\n",
       "        [0.3603, 0.6603, 0.1394],\n",
       "        [0.3660, 0.7916, 0.1134],\n",
       "        ...,\n",
       "        [0.3635, 0.2527, 0.2203],\n",
       "        [0.3705, 0.3781, 0.3367],\n",
       "        [0.3542, 0.5351, 0.3575]])"
      ]
     },
     "execution_count": 15,
     "metadata": {},
     "output_type": "execute_result"
    }
   ],
   "source": [
    "y"
   ]
  },
  {
   "cell_type": "code",
   "execution_count": 17,
   "metadata": {},
   "outputs": [
    {
     "ename": "AttributeError",
     "evalue": "'numpy.ndarray' object has no attribute 'cpu'",
     "output_type": "error",
     "traceback": [
      "\u001b[0;31m---------------------------------------------------------------------------\u001b[0m",
      "\u001b[0;31mAttributeError\u001b[0m                            Traceback (most recent call last)",
      "\u001b[0;32m<ipython-input-17-c9b3e1f9f6aa>\u001b[0m in \u001b[0;36m<module>\u001b[0;34m\u001b[0m\n\u001b[1;32m      1\u001b[0m \u001b[0my\u001b[0m \u001b[0;34m=\u001b[0m \u001b[0mscaler\u001b[0m\u001b[0;34m.\u001b[0m\u001b[0minverse_transform\u001b[0m\u001b[0;34m(\u001b[0m\u001b[0my\u001b[0m\u001b[0;34m)\u001b[0m\u001b[0;34m;\u001b[0m \u001b[0mpred\u001b[0m \u001b[0;34m=\u001b[0m \u001b[0mscaler\u001b[0m\u001b[0;34m.\u001b[0m\u001b[0minverse_transform\u001b[0m\u001b[0;34m(\u001b[0m\u001b[0mpred\u001b[0m\u001b[0;34m.\u001b[0m\u001b[0mcpu\u001b[0m\u001b[0;34m(\u001b[0m\u001b[0;34m)\u001b[0m\u001b[0;34m.\u001b[0m\u001b[0mnumpy\u001b[0m\u001b[0;34m(\u001b[0m\u001b[0;34m)\u001b[0m\u001b[0;34m)\u001b[0m\u001b[0;34m\u001b[0m\u001b[0;34m\u001b[0m\u001b[0m\n\u001b[0;32m----> 2\u001b[0;31m \u001b[0my_\u001b[0m\u001b[0;34m,\u001b[0m \u001b[0mp_\u001b[0m \u001b[0;34m=\u001b[0m \u001b[0my\u001b[0m\u001b[0;34m.\u001b[0m\u001b[0mcpu\u001b[0m\u001b[0;34m(\u001b[0m\u001b[0;34m)\u001b[0m\u001b[0;34m.\u001b[0m\u001b[0mnumpy\u001b[0m\u001b[0;34m(\u001b[0m\u001b[0;34m)\u001b[0m\u001b[0;34m,\u001b[0m \u001b[0mpred\u001b[0m\u001b[0;34m.\u001b[0m\u001b[0mcpu\u001b[0m\u001b[0;34m(\u001b[0m\u001b[0;34m)\u001b[0m\u001b[0;34m.\u001b[0m\u001b[0mnumpy\u001b[0m\u001b[0;34m(\u001b[0m\u001b[0;34m)\u001b[0m\u001b[0;34m\u001b[0m\u001b[0;34m\u001b[0m\u001b[0m\n\u001b[0m",
      "\u001b[0;31mAttributeError\u001b[0m: 'numpy.ndarray' object has no attribute 'cpu'"
     ]
    }
   ],
   "source": [
    "y = scaler.inverse_transform(y); pred = scaler.inverse_transform(pred)\n",
    "y_, p_ = y.cpu().numpy(), pred.cpu().numpy()"
   ]
  },
  {
   "cell_type": "code",
   "execution_count": 13,
   "metadata": {},
   "outputs": [
    {
     "data": {
      "text/plain": [
       "0.00319019"
      ]
     },
     "execution_count": 13,
     "metadata": {},
     "output_type": "execute_result"
    }
   ],
   "source": [
    "mean_absolute_error(y_[:, 0], p_[:, 0])"
   ]
  },
  {
   "cell_type": "code",
   "execution_count": null,
   "metadata": {},
   "outputs": [],
   "source": []
  },
  {
   "cell_type": "code",
   "execution_count": null,
   "metadata": {},
   "outputs": [],
   "source": []
  },
  {
   "cell_type": "code",
   "execution_count": 24,
   "metadata": {},
   "outputs": [
    {
     "name": "stderr",
     "output_type": "stream",
     "text": [
      "\r",
      "  0%|          | 0/10 [00:00<?, ?it/s]"
     ]
    },
    {
     "name": "stdout",
     "output_type": "stream",
     "text": [
      "Evaluating data/chembl_24_chemreps_processed_scaled.csv...\n",
      "tensor([[0.3726, 0.0693, 0.5856],\n",
      "        [0.3603, 0.6603, 0.1394],\n",
      "        [0.3660, 0.7916, 0.1134],\n",
      "        ...,\n",
      "        [0.3635, 0.2527, 0.2203],\n",
      "        [0.3705, 0.3781, 0.3367],\n",
      "        [0.3542, 0.5351, 0.3575]])\n",
      "tensor([[0.3697, 0.0705, 0.5917],\n",
      "        [0.3632, 0.5718, 0.2519],\n",
      "        [0.3661, 0.7659, 0.1721],\n",
      "        ...,\n",
      "        [0.3738, 0.1974, 0.2007],\n",
      "        [0.3609, 0.3446, 0.2735],\n",
      "        [0.3590, 0.4156, 0.3972]], device='cuda:0')\n"
     ]
    },
    {
     "name": "stderr",
     "output_type": "stream",
     "text": [
      "  0%|          | 0/10 [00:13<?, ?it/s]\n",
      "/home/mhassan/miniconda3/envs/smiles_transformer/lib/python3.6/site-packages/sklearn/preprocessing/_data.py:437: RuntimeWarning: overflow encountered in true_divide\n",
      "  X /= self.scale_\n",
      "/home/mhassan/miniconda3/envs/smiles_transformer/lib/python3.6/site-packages/sklearn/preprocessing/_data.py:437: RuntimeWarning: overflow encountered in true_divide\n",
      "  X /= self.scale_\n"
     ]
    },
    {
     "ename": "ValueError",
     "evalue": "Input contains NaN, infinity or a value too large for dtype('float32').",
     "output_type": "error",
     "traceback": [
      "\u001b[0;31m---------------------------------------------------------------------------\u001b[0m",
      "\u001b[0;31mValueError\u001b[0m                                Traceback (most recent call last)",
      "\u001b[0;32m<ipython-input-24-f7bed18eda86>\u001b[0m in \u001b[0;36m<module>\u001b[0;34m\u001b[0m\n\u001b[1;32m     17\u001b[0m \u001b[0mytrue\u001b[0m \u001b[0;34m=\u001b[0m \u001b[0mscaler\u001b[0m\u001b[0;34m.\u001b[0m\u001b[0minverse_transform\u001b[0m\u001b[0;34m(\u001b[0m\u001b[0mytrue\u001b[0m\u001b[0;34m)\u001b[0m\u001b[0;34m\u001b[0m\u001b[0;34m\u001b[0m\u001b[0m\n\u001b[1;32m     18\u001b[0m \u001b[0mypred\u001b[0m \u001b[0;34m=\u001b[0m \u001b[0mscaler\u001b[0m\u001b[0;34m.\u001b[0m\u001b[0minverse_transform\u001b[0m\u001b[0;34m(\u001b[0m\u001b[0mypred\u001b[0m\u001b[0;34m)\u001b[0m\u001b[0;34m\u001b[0m\u001b[0;34m\u001b[0m\u001b[0m\n\u001b[0;32m---> 19\u001b[0;31m \u001b[0mmae\u001b[0m \u001b[0;34m=\u001b[0m \u001b[0;34m[\u001b[0m\u001b[0mmean_absolute_error\u001b[0m\u001b[0;34m(\u001b[0m\u001b[0mytrue\u001b[0m\u001b[0;34m[\u001b[0m\u001b[0;34m:\u001b[0m\u001b[0;34m,\u001b[0m \u001b[0mi\u001b[0m\u001b[0;34m]\u001b[0m\u001b[0;34m,\u001b[0m \u001b[0mypred\u001b[0m\u001b[0;34m[\u001b[0m\u001b[0;34m:\u001b[0m\u001b[0;34m,\u001b[0m \u001b[0mi\u001b[0m\u001b[0;34m]\u001b[0m\u001b[0;34m)\u001b[0m \u001b[0;32mfor\u001b[0m \u001b[0mi\u001b[0m \u001b[0;32min\u001b[0m \u001b[0mrange\u001b[0m\u001b[0;34m(\u001b[0m\u001b[0;36m3\u001b[0m\u001b[0;34m)\u001b[0m\u001b[0;34m]\u001b[0m\u001b[0;34m\u001b[0m\u001b[0;34m\u001b[0m\u001b[0m\n\u001b[0m\u001b[1;32m     20\u001b[0m \u001b[0mrmse\u001b[0m \u001b[0;34m=\u001b[0m \u001b[0;34m[\u001b[0m\u001b[0mnp\u001b[0m\u001b[0;34m.\u001b[0m\u001b[0msqrt\u001b[0m\u001b[0;34m(\u001b[0m\u001b[0mmean_squared_error\u001b[0m\u001b[0;34m(\u001b[0m\u001b[0mytrue\u001b[0m\u001b[0;34m[\u001b[0m\u001b[0;34m:\u001b[0m\u001b[0;34m,\u001b[0m \u001b[0mi\u001b[0m\u001b[0;34m]\u001b[0m\u001b[0;34m,\u001b[0m \u001b[0mypred\u001b[0m\u001b[0;34m[\u001b[0m\u001b[0;34m:\u001b[0m\u001b[0;34m,\u001b[0m \u001b[0mi\u001b[0m\u001b[0;34m]\u001b[0m\u001b[0;34m)\u001b[0m\u001b[0;34m)\u001b[0m \u001b[0;32mfor\u001b[0m \u001b[0mi\u001b[0m \u001b[0;32min\u001b[0m \u001b[0mrange\u001b[0m\u001b[0;34m(\u001b[0m\u001b[0;36m3\u001b[0m\u001b[0;34m)\u001b[0m\u001b[0;34m]\u001b[0m\u001b[0;34m\u001b[0m\u001b[0;34m\u001b[0m\u001b[0m\n",
      "\u001b[0;32m<ipython-input-24-f7bed18eda86>\u001b[0m in \u001b[0;36m<listcomp>\u001b[0;34m(.0)\u001b[0m\n\u001b[1;32m     17\u001b[0m \u001b[0mytrue\u001b[0m \u001b[0;34m=\u001b[0m \u001b[0mscaler\u001b[0m\u001b[0;34m.\u001b[0m\u001b[0minverse_transform\u001b[0m\u001b[0;34m(\u001b[0m\u001b[0mytrue\u001b[0m\u001b[0;34m)\u001b[0m\u001b[0;34m\u001b[0m\u001b[0;34m\u001b[0m\u001b[0m\n\u001b[1;32m     18\u001b[0m \u001b[0mypred\u001b[0m \u001b[0;34m=\u001b[0m \u001b[0mscaler\u001b[0m\u001b[0;34m.\u001b[0m\u001b[0minverse_transform\u001b[0m\u001b[0;34m(\u001b[0m\u001b[0mypred\u001b[0m\u001b[0;34m)\u001b[0m\u001b[0;34m\u001b[0m\u001b[0;34m\u001b[0m\u001b[0m\n\u001b[0;32m---> 19\u001b[0;31m \u001b[0mmae\u001b[0m \u001b[0;34m=\u001b[0m \u001b[0;34m[\u001b[0m\u001b[0mmean_absolute_error\u001b[0m\u001b[0;34m(\u001b[0m\u001b[0mytrue\u001b[0m\u001b[0;34m[\u001b[0m\u001b[0;34m:\u001b[0m\u001b[0;34m,\u001b[0m \u001b[0mi\u001b[0m\u001b[0;34m]\u001b[0m\u001b[0;34m,\u001b[0m \u001b[0mypred\u001b[0m\u001b[0;34m[\u001b[0m\u001b[0;34m:\u001b[0m\u001b[0;34m,\u001b[0m \u001b[0mi\u001b[0m\u001b[0;34m]\u001b[0m\u001b[0;34m)\u001b[0m \u001b[0;32mfor\u001b[0m \u001b[0mi\u001b[0m \u001b[0;32min\u001b[0m \u001b[0mrange\u001b[0m\u001b[0;34m(\u001b[0m\u001b[0;36m3\u001b[0m\u001b[0;34m)\u001b[0m\u001b[0;34m]\u001b[0m\u001b[0;34m\u001b[0m\u001b[0;34m\u001b[0m\u001b[0m\n\u001b[0m\u001b[1;32m     20\u001b[0m \u001b[0mrmse\u001b[0m \u001b[0;34m=\u001b[0m \u001b[0;34m[\u001b[0m\u001b[0mnp\u001b[0m\u001b[0;34m.\u001b[0m\u001b[0msqrt\u001b[0m\u001b[0;34m(\u001b[0m\u001b[0mmean_squared_error\u001b[0m\u001b[0;34m(\u001b[0m\u001b[0mytrue\u001b[0m\u001b[0;34m[\u001b[0m\u001b[0;34m:\u001b[0m\u001b[0;34m,\u001b[0m \u001b[0mi\u001b[0m\u001b[0;34m]\u001b[0m\u001b[0;34m,\u001b[0m \u001b[0mypred\u001b[0m\u001b[0;34m[\u001b[0m\u001b[0;34m:\u001b[0m\u001b[0;34m,\u001b[0m \u001b[0mi\u001b[0m\u001b[0;34m]\u001b[0m\u001b[0;34m)\u001b[0m\u001b[0;34m)\u001b[0m \u001b[0;32mfor\u001b[0m \u001b[0mi\u001b[0m \u001b[0;32min\u001b[0m \u001b[0mrange\u001b[0m\u001b[0;34m(\u001b[0m\u001b[0;36m3\u001b[0m\u001b[0;34m)\u001b[0m\u001b[0;34m]\u001b[0m\u001b[0;34m\u001b[0m\u001b[0;34m\u001b[0m\u001b[0m\n",
      "\u001b[0;32m~/miniconda3/envs/smiles_transformer/lib/python3.6/site-packages/sklearn/metrics/_regression.py\u001b[0m in \u001b[0;36mmean_absolute_error\u001b[0;34m(y_true, y_pred, sample_weight, multioutput)\u001b[0m\n\u001b[1;32m    176\u001b[0m     \"\"\"\n\u001b[1;32m    177\u001b[0m     y_type, y_true, y_pred, multioutput = _check_reg_targets(\n\u001b[0;32m--> 178\u001b[0;31m         y_true, y_pred, multioutput)\n\u001b[0m\u001b[1;32m    179\u001b[0m     \u001b[0mcheck_consistent_length\u001b[0m\u001b[0;34m(\u001b[0m\u001b[0my_true\u001b[0m\u001b[0;34m,\u001b[0m \u001b[0my_pred\u001b[0m\u001b[0;34m,\u001b[0m \u001b[0msample_weight\u001b[0m\u001b[0;34m)\u001b[0m\u001b[0;34m\u001b[0m\u001b[0;34m\u001b[0m\u001b[0m\n\u001b[1;32m    180\u001b[0m     output_errors = np.average(np.abs(y_pred - y_true),\n",
      "\u001b[0;32m~/miniconda3/envs/smiles_transformer/lib/python3.6/site-packages/sklearn/metrics/_regression.py\u001b[0m in \u001b[0;36m_check_reg_targets\u001b[0;34m(y_true, y_pred, multioutput, dtype)\u001b[0m\n\u001b[1;32m     83\u001b[0m     \"\"\"\n\u001b[1;32m     84\u001b[0m     \u001b[0mcheck_consistent_length\u001b[0m\u001b[0;34m(\u001b[0m\u001b[0my_true\u001b[0m\u001b[0;34m,\u001b[0m \u001b[0my_pred\u001b[0m\u001b[0;34m)\u001b[0m\u001b[0;34m\u001b[0m\u001b[0;34m\u001b[0m\u001b[0m\n\u001b[0;32m---> 85\u001b[0;31m     \u001b[0my_true\u001b[0m \u001b[0;34m=\u001b[0m \u001b[0mcheck_array\u001b[0m\u001b[0;34m(\u001b[0m\u001b[0my_true\u001b[0m\u001b[0;34m,\u001b[0m \u001b[0mensure_2d\u001b[0m\u001b[0;34m=\u001b[0m\u001b[0;32mFalse\u001b[0m\u001b[0;34m,\u001b[0m \u001b[0mdtype\u001b[0m\u001b[0;34m=\u001b[0m\u001b[0mdtype\u001b[0m\u001b[0;34m)\u001b[0m\u001b[0;34m\u001b[0m\u001b[0;34m\u001b[0m\u001b[0m\n\u001b[0m\u001b[1;32m     86\u001b[0m     \u001b[0my_pred\u001b[0m \u001b[0;34m=\u001b[0m \u001b[0mcheck_array\u001b[0m\u001b[0;34m(\u001b[0m\u001b[0my_pred\u001b[0m\u001b[0;34m,\u001b[0m \u001b[0mensure_2d\u001b[0m\u001b[0;34m=\u001b[0m\u001b[0;32mFalse\u001b[0m\u001b[0;34m,\u001b[0m \u001b[0mdtype\u001b[0m\u001b[0;34m=\u001b[0m\u001b[0mdtype\u001b[0m\u001b[0;34m)\u001b[0m\u001b[0;34m\u001b[0m\u001b[0;34m\u001b[0m\u001b[0m\n\u001b[1;32m     87\u001b[0m \u001b[0;34m\u001b[0m\u001b[0m\n",
      "\u001b[0;32m~/miniconda3/envs/smiles_transformer/lib/python3.6/site-packages/sklearn/utils/validation.py\u001b[0m in \u001b[0;36mcheck_array\u001b[0;34m(array, accept_sparse, accept_large_sparse, dtype, order, copy, force_all_finite, ensure_2d, allow_nd, ensure_min_samples, ensure_min_features, warn_on_dtype, estimator)\u001b[0m\n\u001b[1;32m    576\u001b[0m         \u001b[0;32mif\u001b[0m \u001b[0mforce_all_finite\u001b[0m\u001b[0;34m:\u001b[0m\u001b[0;34m\u001b[0m\u001b[0;34m\u001b[0m\u001b[0m\n\u001b[1;32m    577\u001b[0m             _assert_all_finite(array,\n\u001b[0;32m--> 578\u001b[0;31m                                allow_nan=force_all_finite == 'allow-nan')\n\u001b[0m\u001b[1;32m    579\u001b[0m \u001b[0;34m\u001b[0m\u001b[0m\n\u001b[1;32m    580\u001b[0m     \u001b[0;32mif\u001b[0m \u001b[0mensure_min_samples\u001b[0m \u001b[0;34m>\u001b[0m \u001b[0;36m0\u001b[0m\u001b[0;34m:\u001b[0m\u001b[0;34m\u001b[0m\u001b[0;34m\u001b[0m\u001b[0m\n",
      "\u001b[0;32m~/miniconda3/envs/smiles_transformer/lib/python3.6/site-packages/sklearn/utils/validation.py\u001b[0m in \u001b[0;36m_assert_all_finite\u001b[0;34m(X, allow_nan, msg_dtype)\u001b[0m\n\u001b[1;32m     58\u001b[0m                     \u001b[0mmsg_err\u001b[0m\u001b[0;34m.\u001b[0m\u001b[0mformat\u001b[0m\u001b[0;34m\u001b[0m\u001b[0;34m\u001b[0m\u001b[0m\n\u001b[1;32m     59\u001b[0m                     (type_err,\n\u001b[0;32m---> 60\u001b[0;31m                      msg_dtype if msg_dtype is not None else X.dtype)\n\u001b[0m\u001b[1;32m     61\u001b[0m             )\n\u001b[1;32m     62\u001b[0m     \u001b[0;31m# for object dtype data, we only check for NaNs (GH-13254)\u001b[0m\u001b[0;34m\u001b[0m\u001b[0;34m\u001b[0m\u001b[0;34m\u001b[0m\u001b[0m\n",
      "\u001b[0;31mValueError\u001b[0m: Input contains NaN, infinity or a value too large for dtype('float32')."
     ]
    }
   ],
   "source": [
    "ytrue = np.empty((len(test), 3), np.float32)\n",
    "ypred = np.empty_like(ytrue, np.float32)\n",
    "\n",
    "print(f\"Evaluating {params['data']}...\")\n",
    "with torch.no_grad():\n",
    "    for i, (x, y) in enumerate(tqdm(test_loader)):\n",
    "        _, pred = model(x.to(device))\n",
    "        print(y)\n",
    "        print(pred)\n",
    "        break\n",
    "        for p, q in zip(y, pred):\n",
    "            ytrue[i*batch_size:i*batch_size+batch_size] = p.cpu().numpy()\n",
    "            ypred[i*batch_size:i*batch_size+batch_size] = q.cpu().numpy()\n",
    "\n",
    "#\"logP\", \"qed\", \"sas\"\n",
    "# Inverse transform\n",
    "ytrue = scaler.inverse_transform(ytrue)\n",
    "ypred = scaler.inverse_transform(ypred)\n",
    "mae = [mean_absolute_error(ytrue[:, i], ypred[:, i]) for i in range(3)]\n",
    "rmse = [np.sqrt(mean_squared_error(ytrue[:, i], ypred[:, i])) for i in range(3)]\n"
   ]
  },
  {
   "cell_type": "code",
   "execution_count": null,
   "metadata": {},
   "outputs": [],
   "source": []
  },
  {
   "cell_type": "code",
   "execution_count": null,
   "metadata": {},
   "outputs": [],
   "source": []
  },
  {
   "cell_type": "code",
   "execution_count": null,
   "metadata": {},
   "outputs": [],
   "source": []
  },
  {
   "cell_type": "code",
   "execution_count": null,
   "metadata": {},
   "outputs": [],
   "source": []
  },
  {
   "cell_type": "code",
   "execution_count": null,
   "metadata": {},
   "outputs": [],
   "source": [
    "\n",
    "def get_metrics():\n",
    "    # Evaluate test data\n",
    "    batch_size = params['batch_size']\n",
    "    dataset = Seq2seqDatasetProp(params, vocab)\n",
    "\n",
    "    _, test = torch.utils.data.random_split(\n",
    "                    dataset, [len(dataset) - params['test_size'], params['test_size']])\n",
    "    \n",
    "    test_loader = DataLoader(test, batch_size=batch_size, shuffle=False, num_workers=56)\n",
    "    ytrue = np.empty((len(test), 3), np.float32)\n",
    "    ypred = np.empty_like(ytrue, np.float32)\n",
    "    \n",
    "    print(f\"Evaluating {params['data']}...\")\n",
    "    with torch.no_grad():\n",
    "        for i, (x, y) in enumerate(tqdm(test_loader)):\n",
    "            _, pred = model(x.to(device))\n",
    "            for p, q in zip(y, pred):\n",
    "                ytrue[i*batch_size:i*batch_size+batch_size] = p.cpu().numpy()\n",
    "                ypred[i*batch_size:i*batch_size+batch_size] = q.cpu().numpy()\n",
    "    \n",
    "    #\"logP\", \"qed\", \"sas\"\n",
    "    # Inverse transform\n",
    "    ytrue = scaler.inverse_transform(ytrue)\n",
    "    ypred = scaler.inverse_transform(ypred)\n",
    "    mae = [mean_absolute_error(ytrue[:, i], ypred[:, i]) for i in range(3)]\n",
    "    rmse = [np.sqrt(mean_squared_error(ytrue[:, i], ypred[:, i])) for i in range(3)]\n",
    "\n",
    "    print(f\"VALUES: {params['props']}\")\n",
    "    print(f\"MEAN ABSOLUTE ERROR: {mae}\")\n",
    "    print(f\"ROOT MEAN SQUARED ERROR: {rmse}\")\n",
    "\n",
    "    print(\"--------------------------------\")\n",
    "\n",
    "    # Evaluate zinc data\n",
    "    params['data'] = TESTDATA # replace the training data file with the test data file\n",
    "    dataset = Seq2seqDatasetProp(params, vocab)\n",
    "    test_loader = DataLoader(dataset, batch_size = batch_size, num_workers=56, shuffle=False)\n",
    "    ytrue = np.empty((len(dataset), 3), np.float32)\n",
    "    ypred = np.empty_like(ytrue, np.float32)\n",
    "\n",
    "    print(f\"Evaluating {params['data']}...\")\n",
    "    with torch.no_grad():\n",
    "        for i, (x, y) in enumerate(tqdm(test_loader)):\n",
    "            _, pred = model(x.to(device))\n",
    "            for p, q in zip(y, pred):\n",
    "                ytrue[i*batch_size:i*batch_size+batch_size] = p.cpu().numpy()\n",
    "                ypred[i*batch_size:i*batch_size+batch_size] = q.cpu().numpy()\n",
    "    \n",
    "    #\"logP\", \"qed\", \"sas\"\n",
    "    # Inverse transform\n",
    "    ytrue = scaler.inverse_transform(ytrue)\n",
    "    ypred = scaler.inverse_transform(ypred)\n",
    "    mae = [mean_absolute_error(ytrue[:, i], ypred[:, i]) for i in range(3)]\n",
    "    rmse = [np.sqrt(mean_squared_error(ytrue[:, i], ypred[:, i])) for i in range(3)]\n",
    "    print(f\"VALUES: {params['props']}\")\n",
    "    print(f\"MEAN ABSOLUTE ERROR: {mae}\")\n",
    "    print(f\"ROOT MEAN SQUARED ERROR: {rmse}\")\n",
    "\n",
    "\n",
    "def encode():\n",
    "    output = np.empty((len(dataset), 1024), dtype=np.float32)\n",
    "    with torch.no_grad():\n",
    "        for i, (x, y) in enumerate(tqdm(test_loader)):\n",
    "            _encoder = model.module._encode(x.to(device))\n",
    "            output[i*batch_size:i*batch_size+batch_size] = _encoder\n",
    "    np.save('encoded', output)\n",
    "    print(\"Encoded representations are saved to encoded.npy\")\n",
    "\n",
    "\n",
    "if __name__==\"__main__\":\n",
    "    get_metrics()\n",
    "    #encode()\n"
   ]
  },
  {
   "cell_type": "code",
   "execution_count": null,
   "metadata": {},
   "outputs": [],
   "source": []
  }
 ],
 "metadata": {
  "kernelspec": {
   "display_name": "Python 3",
   "language": "python",
   "name": "python3"
  },
  "language_info": {
   "codemirror_mode": {
    "name": "ipython",
    "version": 3
   },
   "file_extension": ".py",
   "mimetype": "text/x-python",
   "name": "python",
   "nbconvert_exporter": "python",
   "pygments_lexer": "ipython3",
   "version": "3.6.10"
  }
 },
 "nbformat": 4,
 "nbformat_minor": 4
}
